{
 "cells": [
  {
   "cell_type": "code",
   "execution_count": null,
   "metadata": {},
   "outputs": [],
   "source": [
    "import pandas as pd\n",
    "import json\n",
    "import random\n",
    "from hazm import Normalizer"
   ]
  },
  {
   "cell_type": "code",
   "execution_count": null,
   "metadata": {},
   "outputs": [],
   "source": [
    "IN_BASE_NAMES_FILE = '/Users/mohammadmahdi/Desktop/names_full.csv'\n",
    "IN_CRAWLED_JL_DATA_FILE = '/Users/mohammadmahdi/Desktop/data.jl'\n",
    "OUT_MAIN_COMMENTS_FILE = '/Users/mohammadmahdi/Desktop/main_comments_data.txt'\n",
    "OUT_SELECTED_DATA_FILE = '/Users/mohammadmahdi/Desktop/data_final.txt'\n",
    "OUT_OBFUSCATED_SELECTED_DATA_FILE = '/Users/mohammadmahdi/Desktop/data_final_obf.txt'"
   ]
  },
  {
   "cell_type": "code",
   "execution_count": null,
   "metadata": {},
   "outputs": [],
   "source": [
    "NUMBER_OF_SAMPLES = 1000"
   ]
  },
  {
   "cell_type": "code",
   "execution_count": null,
   "metadata": {},
   "outputs": [],
   "source": [
    "normalizer = Normalizer()\n",
    "\n",
    "def normal(string):\n",
    "    string = normalizer.normalize(string)\n",
    "    string = string.replace(\"‌\", \" \")\n",
    "    string = string.replace(\"ء\", \"\")\n",
    "    string = string.replace(\"أ\", \"ا\")\n",
    "    string = string.replace(\"آ\", \"ا\")\n",
    "    string = string.replace(\"إ\", \"ا\")\n",
    "    string = string.replace(\"ؤ\", \"و\")\n",
    "    string = string.replace(\"ئ\", \"ی\")\n",
    "    string = string.replace(\"ة\", \"ه\")\n",
    "    return string   "
   ]
  },
  {
   "cell_type": "code",
   "execution_count": null,
   "metadata": {},
   "outputs": [],
   "source": [
    "df = pd.read_csv(IN_BASE_NAMES_FILE)\n",
    "predefined_names = df['نماد.1'].tolist()\n",
    "predefined_names = [normal(x) for x in predefined_names]"
   ]
  },
  {
   "cell_type": "code",
   "execution_count": null,
   "metadata": {},
   "outputs": [],
   "source": [
    "data = []\n",
    "with open(IN_CRAWLED_JL_DATA_FILE) as f:\n",
    "    for line in f:\n",
    "        for item in json.loads(line)['items']:\n",
    "            if 'score' in item and 'content' in item: # messages of type 'twit' have no content :?\n",
    "                data.append(item['content'])"
   ]
  },
  {
   "cell_type": "code",
   "execution_count": null,
   "metadata": {},
   "outputs": [],
   "source": [
    "with open(OUT_MAIN_COMMENTS_FILE, mode='w') as f:\n",
    "    i = 0\n",
    "    while i < len(data):\n",
    "        res = ''\n",
    "        for j in range(min(len(data) - i, 100000)):\n",
    "            res += data[i+j] + '\\n'\n",
    "        i += (j + 1)\n",
    "        f.write(res)"
   ]
  },
  {
   "cell_type": "code",
   "execution_count": null,
   "metadata": {},
   "outputs": [],
   "source": [
    "choices = random.choices(data, k=NUMBER_OF_SAMPLES)\n",
    "choices = [normal(x) for x in choices]"
   ]
  },
  {
   "cell_type": "code",
   "execution_count": null,
   "metadata": {},
   "outputs": [],
   "source": [
    "OBF = '██████████'"
   ]
  },
  {
   "cell_type": "code",
   "execution_count": null,
   "metadata": {},
   "outputs": [],
   "source": [
    "for i in range(len(choices)):\n",
    "    choices[i] = choices[i].replace('#', ' #')\n",
    "names = set()\n",
    "for sentiment in choices:\n",
    "    split = sentiment.split()\n",
    "    for word in split:\n",
    "        if word.startswith('#') and word != '#':\n",
    "            names.add(word[1:])"
   ]
  },
  {
   "cell_type": "code",
   "execution_count": null,
   "metadata": {},
   "outputs": [],
   "source": [
    "names.update(predefined_names)"
   ]
  },
  {
   "cell_type": "code",
   "execution_count": null,
   "metadata": {},
   "outputs": [],
   "source": [
    "data_obf = []\n",
    "sharp_count = 0\n",
    "normal_count = 0\n",
    "for sentiment in choices:\n",
    "    split = sentiment.split()\n",
    "    for i in range(len(split)):\n",
    "        for name in names:\n",
    "            if ('#' + name) == split[i]:\n",
    "                split[i] = '#' + OBF\n",
    "                sharp_count += 1\n",
    "            if name == split[i]:\n",
    "                split[i] = OBF\n",
    "                normal_count += 1\n",
    "    data_obf.append(' '.join(split))"
   ]
  },
  {
   "cell_type": "code",
   "execution_count": null,
   "metadata": {},
   "outputs": [],
   "source": [
    "result = ''\n",
    "for record in choices:\n",
    "    result += record + '\\n'\n",
    "    \n",
    "with open(OUT_SELECTED_DATA_FILE, mode='w') as f:\n",
    "    f.write(result)"
   ]
  },
  {
   "cell_type": "code",
   "execution_count": null,
   "metadata": {},
   "outputs": [],
   "source": [
    "result = ''\n",
    "for record in data_obf:\n",
    "    result += record + '\\n'\n",
    "    \n",
    "with open(OUT_OBFUSCATED_SELECTED_DATA_FILE, mode='w') as f:\n",
    "    f.write(result)"
   ]
  },
  {
   "cell_type": "code",
   "execution_count": null,
   "metadata": {},
   "outputs": [],
   "source": []
  }
 ],
 "metadata": {
  "kernelspec": {
   "display_name": "Python 3",
   "language": "python",
   "name": "python3"
  },
  "language_info": {
   "codemirror_mode": {
    "name": "ipython",
    "version": 3
   },
   "file_extension": ".py",
   "mimetype": "text/x-python",
   "name": "python",
   "nbconvert_exporter": "python",
   "pygments_lexer": "ipython3",
   "version": "3.7.3"
  }
 },
 "nbformat": 4,
 "nbformat_minor": 4
}
